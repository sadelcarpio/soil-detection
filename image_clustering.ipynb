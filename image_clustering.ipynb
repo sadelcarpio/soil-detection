{
 "cells": [
  {
   "cell_type": "markdown",
   "id": "7ca36252-f7c9-4228-aacb-5186022699f5",
   "metadata": {},
   "source": [
    "## Instalar librerías"
   ]
  },
  {
   "cell_type": "code",
   "execution_count": 1,
   "id": "845ad8e2-ceb6-493a-8104-be17f936a7e5",
   "metadata": {},
   "outputs": [
    {
     "name": "stdout",
     "output_type": "stream",
     "text": [
      "Collecting tensorflow-addons\n",
      "  Obtaining dependency information for tensorflow-addons from https://files.pythonhosted.org/packages/e4/c5/c09f45ee6875e5d7a3321395fb5758f489e501535070c9a462341772b292/tensorflow_addons-0.22.0-cp310-cp310-manylinux_2_17_x86_64.manylinux2014_x86_64.whl.metadata\n",
      "  Using cached tensorflow_addons-0.22.0-cp310-cp310-manylinux_2_17_x86_64.manylinux2014_x86_64.whl.metadata (1.8 kB)\n",
      "Requirement already satisfied: packaging in /opt/conda/lib/python3.10/site-packages (from tensorflow-addons) (23.1)\n",
      "Requirement already satisfied: typeguard<3.0.0,>=2.7 in /opt/conda/lib/python3.10/site-packages (from tensorflow-addons) (2.13.3)\n",
      "Using cached tensorflow_addons-0.22.0-cp310-cp310-manylinux_2_17_x86_64.manylinux2014_x86_64.whl (612 kB)\n",
      "Installing collected packages: tensorflow-addons\n",
      "Successfully installed tensorflow-addons-0.22.0\n"
     ]
    }
   ],
   "source": [
    "!pip install tensorflow-addons"
   ]
  },
  {
   "cell_type": "code",
   "execution_count": 2,
   "id": "d73d3248-6dba-46d5-9f51-202c478fac3a",
   "metadata": {},
   "outputs": [
    {
     "name": "stderr",
     "output_type": "stream",
     "text": [
      "2023-10-22 19:30:39.872894: I tensorflow/core/platform/cpu_feature_guard.cc:182] This TensorFlow binary is optimized to use available CPU instructions in performance-critical operations.\n",
      "To enable the following instructions: AVX2 FMA, in other operations, rebuild TensorFlow with the appropriate compiler flags.\n",
      "/opt/conda/lib/python3.10/site-packages/tensorflow_io/python/ops/__init__.py:98: UserWarning: unable to load libtensorflow_io_plugins.so: unable to open file: libtensorflow_io_plugins.so, from paths: ['/opt/conda/lib/python3.10/site-packages/tensorflow_io/python/ops/libtensorflow_io_plugins.so']\n",
      "caused by: ['/opt/conda/lib/python3.10/site-packages/tensorflow_io/python/ops/libtensorflow_io_plugins.so: undefined symbol: _ZN3tsl6StatusC1EN10tensorflow5error4CodeESt17basic_string_viewIcSt11char_traitsIcEENS_14SourceLocationE']\n",
      "  warnings.warn(f\"unable to load libtensorflow_io_plugins.so: {e}\")\n",
      "/opt/conda/lib/python3.10/site-packages/tensorflow_io/python/ops/__init__.py:104: UserWarning: file system plugins are not loaded: unable to open file: libtensorflow_io.so, from paths: ['/opt/conda/lib/python3.10/site-packages/tensorflow_io/python/ops/libtensorflow_io.so']\n",
      "caused by: ['/opt/conda/lib/python3.10/site-packages/tensorflow_io/python/ops/libtensorflow_io.so: undefined symbol: _ZTVN10tensorflow13GcsFileSystemE']\n",
      "  warnings.warn(f\"file system plugins are not loaded: {e}\")\n",
      "/opt/conda/lib/python3.10/site-packages/tensorflow_addons/utils/tfa_eol_msg.py:23: UserWarning: \n",
      "\n",
      "TensorFlow Addons (TFA) has ended development and introduction of new features.\n",
      "TFA has entered a minimal maintenance and release mode until a planned end of life in May 2024.\n",
      "Please modify downstream libraries to take dependencies from other repositories in our TensorFlow community (e.g. Keras, Keras-CV, and Keras-NLP). \n",
      "\n",
      "For more information see: https://github.com/tensorflow/addons/issues/2807 \n",
      "\n",
      "  warnings.warn(\n"
     ]
    }
   ],
   "source": [
    "from collections import defaultdict\n",
    "import random\n",
    "import numpy as np\n",
    "import tensorflow as tf\n",
    "import tensorflow_addons as tfa\n",
    "from tensorflow import keras\n",
    "from tensorflow.keras import layers\n",
    "import matplotlib.pyplot as plt\n",
    "from tqdm import tqdm"
   ]
  },
  {
   "cell_type": "markdown",
   "id": "5601a208-8351-4400-a2e3-11b125fe6b8c",
   "metadata": {
    "tags": []
   },
   "source": [
    "## Preparacion de datos (CIFAR10)"
   ]
  },
  {
   "cell_type": "code",
   "execution_count": 3,
   "id": "e9c07a8f-724f-4765-bcc7-74d65f0041d5",
   "metadata": {},
   "outputs": [
    {
     "name": "stdout",
     "output_type": "stream",
     "text": [
      "x_data shape: (60000, 32, 32, 3) - y_data shape: (60000, 1)\n"
     ]
    }
   ],
   "source": [
    "num_classes = 10\n",
    "input_shape = (32, 32, 3)\n",
    "\n",
    "(x_train, y_train), (x_test, y_test) = keras.datasets.cifar10.load_data()\n",
    "x_data = np.concatenate([x_train, x_test])\n",
    "y_data = np.concatenate([y_train, y_test])\n",
    "\n",
    "print(\"x_data shape:\", x_data.shape, \"- y_data shape:\", y_data.shape)\n",
    "\n",
    "classes = [\n",
    "    \"airplane\",\n",
    "    \"automobile\",\n",
    "    \"bird\",\n",
    "    \"cat\",\n",
    "    \"deer\",\n",
    "    \"dog\",\n",
    "    \"frog\",\n",
    "    \"horse\",\n",
    "    \"ship\",\n",
    "    \"truck\",\n",
    "]"
   ]
  },
  {
   "cell_type": "markdown",
   "id": "dcd20b34-4583-4f94-b0cc-03c5813b7656",
   "metadata": {
    "tags": []
   },
   "source": [
    "## Definir hiperparámetros"
   ]
  },
  {
   "cell_type": "code",
   "execution_count": 4,
   "id": "896eae43-3bec-4935-a353-91ac73b5336b",
   "metadata": {},
   "outputs": [],
   "source": [
    "target_size = 32  # Resize the input images.\n",
    "representation_dim = 512  # The dimensions of the features vector.\n",
    "projection_units = 128  # The projection head of the representation learner.\n",
    "num_clusters = 20  # Number of clusters.\n",
    "k_neighbours = 5  # Number of neighbours to consider during cluster learning.\n",
    "tune_encoder_during_clustering = False  # Freeze the encoder in the cluster learning."
   ]
  },
  {
   "cell_type": "markdown",
   "id": "6dbbabc6-3a44-4db5-91fa-8cdd01e44bbb",
   "metadata": {
    "tags": []
   },
   "source": [
    "## Preprocesamiento de datos"
   ]
  },
  {
   "cell_type": "code",
   "execution_count": 5,
   "id": "53e5586e-070b-461c-8ff1-47b4cef681ba",
   "metadata": {
    "tags": []
   },
   "outputs": [
    {
     "name": "stderr",
     "output_type": "stream",
     "text": [
      "2023-10-22 19:31:30.619917: I tensorflow/compiler/xla/stream_executor/cuda/cuda_gpu_executor.cc:996] successful NUMA node read from SysFS had negative value (-1), but there must be at least one NUMA node, so returning NUMA node zero. See more at https://github.com/torvalds/linux/blob/v6.0/Documentation/ABI/testing/sysfs-bus-pci#L344-L355\n",
      "2023-10-22 19:31:34.441999: I tensorflow/compiler/xla/stream_executor/cuda/cuda_gpu_executor.cc:996] successful NUMA node read from SysFS had negative value (-1), but there must be at least one NUMA node, so returning NUMA node zero. See more at https://github.com/torvalds/linux/blob/v6.0/Documentation/ABI/testing/sysfs-bus-pci#L344-L355\n",
      "2023-10-22 19:31:34.442380: I tensorflow/compiler/xla/stream_executor/cuda/cuda_gpu_executor.cc:996] successful NUMA node read from SysFS had negative value (-1), but there must be at least one NUMA node, so returning NUMA node zero. See more at https://github.com/torvalds/linux/blob/v6.0/Documentation/ABI/testing/sysfs-bus-pci#L344-L355\n",
      "2023-10-22 19:31:34.443983: I tensorflow/compiler/xla/stream_executor/cuda/cuda_gpu_executor.cc:996] successful NUMA node read from SysFS had negative value (-1), but there must be at least one NUMA node, so returning NUMA node zero. See more at https://github.com/torvalds/linux/blob/v6.0/Documentation/ABI/testing/sysfs-bus-pci#L344-L355\n",
      "2023-10-22 19:31:34.444334: I tensorflow/compiler/xla/stream_executor/cuda/cuda_gpu_executor.cc:996] successful NUMA node read from SysFS had negative value (-1), but there must be at least one NUMA node, so returning NUMA node zero. See more at https://github.com/torvalds/linux/blob/v6.0/Documentation/ABI/testing/sysfs-bus-pci#L344-L355\n",
      "2023-10-22 19:31:34.444645: I tensorflow/compiler/xla/stream_executor/cuda/cuda_gpu_executor.cc:996] successful NUMA node read from SysFS had negative value (-1), but there must be at least one NUMA node, so returning NUMA node zero. See more at https://github.com/torvalds/linux/blob/v6.0/Documentation/ABI/testing/sysfs-bus-pci#L344-L355\n",
      "2023-10-22 19:31:51.444054: I tensorflow/compiler/xla/stream_executor/cuda/cuda_gpu_executor.cc:996] successful NUMA node read from SysFS had negative value (-1), but there must be at least one NUMA node, so returning NUMA node zero. See more at https://github.com/torvalds/linux/blob/v6.0/Documentation/ABI/testing/sysfs-bus-pci#L344-L355\n",
      "2023-10-22 19:31:51.444367: I tensorflow/compiler/xla/stream_executor/cuda/cuda_gpu_executor.cc:996] successful NUMA node read from SysFS had negative value (-1), but there must be at least one NUMA node, so returning NUMA node zero. See more at https://github.com/torvalds/linux/blob/v6.0/Documentation/ABI/testing/sysfs-bus-pci#L344-L355\n",
      "2023-10-22 19:31:51.444566: I tensorflow/compiler/xla/stream_executor/cuda/cuda_gpu_executor.cc:996] successful NUMA node read from SysFS had negative value (-1), but there must be at least one NUMA node, so returning NUMA node zero. See more at https://github.com/torvalds/linux/blob/v6.0/Documentation/ABI/testing/sysfs-bus-pci#L344-L355\n",
      "2023-10-22 19:31:51.444735: I tensorflow/core/common_runtime/gpu/gpu_device.cc:1635] Created device /job:localhost/replica:0/task:0/device:GPU:0 with 6843 MB memory:  -> device: 0, name: Tesla P4, pci bus id: 0000:00:04.0, compute capability: 6.1\n"
     ]
    }
   ],
   "source": [
    "data_preprocessing = keras.Sequential(\n",
    "    [\n",
    "        layers.Resizing(target_size, target_size),\n",
    "        layers.Normalization(),\n",
    "    ]\n",
    ")\n",
    "# Compute the mean and the variance from the data for normalization.\n",
    "data_preprocessing.layers[-1].adapt(x_data)"
   ]
  },
  {
   "cell_type": "markdown",
   "id": "486ff356-ac60-4b3c-bdd6-fa22b96f0141",
   "metadata": {
    "tags": []
   },
   "source": [
    "## Data Augmentation"
   ]
  },
  {
   "cell_type": "code",
   "execution_count": 6,
   "id": "acf9f469-b23e-492a-82a4-8dc707d533df",
   "metadata": {},
   "outputs": [],
   "source": [
    "data_augmentation = keras.Sequential(\n",
    "    [\n",
    "        layers.RandomTranslation(\n",
    "            height_factor=(-0.2, 0.2), width_factor=(-0.2, 0.2), fill_mode=\"nearest\"\n",
    "        ),\n",
    "        layers.RandomFlip(mode=\"horizontal\"),\n",
    "        layers.RandomRotation(factor=0.15, fill_mode=\"nearest\"),\n",
    "        layers.RandomZoom(\n",
    "            height_factor=(-0.3, 0.1), width_factor=(-0.3, 0.1), fill_mode=\"nearest\"\n",
    "        ),\n",
    "    ]\n",
    ")"
   ]
  },
  {
   "cell_type": "markdown",
   "id": "9e9a7e0a-b087-41bf-a2b6-0f88d4e13630",
   "metadata": {},
   "source": [
    "### Imagen random"
   ]
  },
  {
   "cell_type": "code",
   "execution_count": 7,
   "id": "6e67f05d-0a29-4cd8-b375-6e9c034f900e",
   "metadata": {},
   "outputs": [
    {
     "data": {
      "image/png": "[encoded data removed]",
      "text/plain": [
       "<Figure size 300x300 with 1 Axes>"
      ]
     },
     "metadata": {},
     "output_type": "display_data"
    }
   ],
   "source": [
    "image_idx = np.random.choice(range(x_data.shape[0]))\n",
    "image = x_data[image_idx]\n",
    "image_class = classes[y_data[image_idx][0]]\n",
    "plt.figure(figsize=(3, 3))\n",
    "plt.imshow(x_data[image_idx].astype(\"uint8\"))\n",
    "plt.title(image_class)\n",
    "_ = plt.axis(\"off\")"
   ]
  },
  {
   "cell_type": "markdown",
   "id": "1eaa0897-2ee3-423f-b047-bb8790baa395",
   "metadata": {
    "tags": []
   },
   "source": [
    "### Display aumentado"
   ]
  },
  {
   "cell_type": "code",
   "execution_count": 8,
   "id": "90e5bd03-cf08-45fc-9fb7-51495a6cf7cd",
   "metadata": {},
   "outputs": [
    {
     "data": {
      "image/png": "[encoded data removed]",
      "text/plain": [
       "<Figure size 1000x1000 with 9 Axes>"
      ]
     },
     "metadata": {},
     "output_type": "display_data"
    }
   ],
   "source": [
    "plt.figure(figsize=(10, 10))\n",
    "for i in range(9):\n",
    "    augmented_images = data_augmentation(np.array([image]))\n",
    "    ax = plt.subplot(3, 3, i + 1)\n",
    "    plt.imshow(augmented_images[0].numpy().astype(\"uint8\"))\n",
    "    plt.axis(\"off\")"
   ]
  },
  {
   "cell_type": "markdown",
   "id": "223dc1b2-df0f-4caf-a3db-4ab27c8a5dba",
   "metadata": {},
   "source": [
    "## Representation Learning (Self-Supervised)"
   ]
  },
  {
   "cell_type": "markdown",
   "id": "4e200103-03bc-41f0-bd7c-841394878ba5",
   "metadata": {},
   "source": [
    "### Vision Encoder"
   ]
  },
  {
   "cell_type": "code",
   "execution_count": 9,
   "id": "ff3d6985-813c-46a6-99f7-22d2088779fe",
   "metadata": {},
   "outputs": [],
   "source": [
    "def create_encoder(representation_dim):\n",
    "    encoder = keras.Sequential(\n",
    "        [\n",
    "            keras.applications.ResNet50V2(\n",
    "                include_top=False, weights=None, pooling=\"avg\"\n",
    "            ),\n",
    "            layers.Dense(representation_dim),\n",
    "        ]\n",
    "    )\n",
    "    return encoder"
   ]
  },
  {
   "cell_type": "markdown",
   "id": "4c68546f-8c5d-418d-a3e7-a45ccba0117b",
   "metadata": {},
   "source": [
    "### Unsupervised Contrastive Loss"
   ]
  },
  {
   "cell_type": "code",
   "execution_count": 10,
   "id": "45876bc9-eb87-4186-95b3-784514a14ee3",
   "metadata": {},
   "outputs": [],
   "source": [
    "class RepresentationLearner(keras.Model):\n",
    "    def __init__(\n",
    "        self,\n",
    "        encoder,\n",
    "        projection_units,\n",
    "        num_augmentations,\n",
    "        temperature=1.0,\n",
    "        dropout_rate=0.1,\n",
    "        l2_normalize=False,\n",
    "        **kwargs\n",
    "    ):\n",
    "        super().__init__(**kwargs)\n",
    "        self.encoder = encoder\n",
    "        # Create projection head.\n",
    "        self.projector = keras.Sequential(\n",
    "            [\n",
    "                layers.Dropout(dropout_rate),\n",
    "                layers.Dense(units=projection_units, use_bias=False),\n",
    "                layers.BatchNormalization(),\n",
    "                layers.ReLU(),\n",
    "            ]\n",
    "        )\n",
    "        self.num_augmentations = num_augmentations\n",
    "        self.temperature = temperature\n",
    "        self.l2_normalize = l2_normalize\n",
    "        self.loss_tracker = keras.metrics.Mean(name=\"loss\")\n",
    "\n",
    "    @property\n",
    "    def metrics(self):\n",
    "        return [self.loss_tracker]\n",
    "\n",
    "    def compute_contrastive_loss(self, feature_vectors, batch_size):\n",
    "        num_augmentations = tf.shape(feature_vectors)[0] // batch_size\n",
    "        if self.l2_normalize:\n",
    "            feature_vectors = tf.math.l2_normalize(feature_vectors, -1)\n",
    "        # The logits shape is [num_augmentations * batch_size, num_augmentations * batch_size].\n",
    "        logits = (\n",
    "            tf.linalg.matmul(feature_vectors, feature_vectors, transpose_b=True)\n",
    "            / self.temperature\n",
    "        )\n",
    "        # Apply log-max trick for numerical stability.\n",
    "        logits_max = tf.math.reduce_max(logits, axis=1)\n",
    "        logits = logits - logits_max\n",
    "        # The shape of targets is [num_augmentations * batch_size, num_augmentations * batch_size].\n",
    "        # targets is a matrix consits of num_augmentations submatrices of shape [batch_size * batch_size].\n",
    "        # Each [batch_size * batch_size] submatrix is an identity matrix (diagonal entries are ones).\n",
    "        targets = tf.tile(tf.eye(batch_size), [num_augmentations, num_augmentations])\n",
    "        # Compute cross entropy loss\n",
    "        return keras.losses.categorical_crossentropy(\n",
    "            y_true=targets, y_pred=logits, from_logits=True\n",
    "        )\n",
    "\n",
    "    def call(self, inputs):\n",
    "        # Preprocess the input images.\n",
    "        preprocessed = data_preprocessing(inputs)\n",
    "        # Create augmented versions of the images.\n",
    "        augmented = []\n",
    "        for _ in range(self.num_augmentations):\n",
    "            augmented.append(data_augmentation(preprocessed))\n",
    "        augmented = layers.Concatenate(axis=0)(augmented)\n",
    "        # Generate embedding representations of the images.\n",
    "        features = self.encoder(augmented)\n",
    "        # Apply projection head.\n",
    "        return self.projector(features)\n",
    "\n",
    "    def train_step(self, inputs):\n",
    "        batch_size = tf.shape(inputs)[0]\n",
    "        # Run the forward pass and compute the contrastive loss\n",
    "        with tf.GradientTape() as tape:\n",
    "            feature_vectors = self(inputs, training=True)\n",
    "            loss = self.compute_contrastive_loss(feature_vectors, batch_size)\n",
    "        # Compute gradients\n",
    "        trainable_vars = self.trainable_variables\n",
    "        gradients = tape.gradient(loss, trainable_vars)\n",
    "        # Update weights\n",
    "        self.optimizer.apply_gradients(zip(gradients, trainable_vars))\n",
    "        # Update loss tracker metric\n",
    "        self.loss_tracker.update_state(loss)\n",
    "        # Return a dict mapping metric names to current value\n",
    "        return {m.name: m.result() for m in self.metrics}\n",
    "\n",
    "    def test_step(self, inputs):\n",
    "        batch_size = tf.shape(inputs)[0]\n",
    "        feature_vectors = self(inputs, training=False)\n",
    "        loss = self.compute_contrastive_loss(feature_vectors, batch_size)\n",
    "        self.loss_tracker.update_state(loss)\n",
    "        return {\"loss\": self.loss_tracker.result()}"
   ]
  },
  {
   "cell_type": "markdown",
   "id": "2aa3a00f-2ad6-42aa-ba75-afae7c6cb3f1",
   "metadata": {},
   "source": [
    "## Entrenamiento"
   ]
  },
  {
   "cell_type": "code",
   "execution_count": 11,
   "id": "e6147f98-2e65-4259-99ee-b61c7344e4d0",
   "metadata": {
    "tags": []
   },
   "outputs": [
    {
     "name": "stdout",
     "output_type": "stream",
     "text": [
      "Epoch 1/500\n"
     ]
    },
    {
     "name": "stderr",
     "output_type": "stream",
     "text": [
      "2023-10-22 19:32:53.483895: I tensorflow/compiler/xla/stream_executor/cuda/cuda_dnn.cc:424] Loaded cuDNN version 8900\n",
      "2023-10-22 19:33:29.828320: W tensorflow/tsl/framework/bfc_allocator.cc:296] Allocator (GPU_0_bfc) ran out of memory trying to allocate 5.33GiB with freed_by_count=0. The caller indicates that this is not a failure, but this may mean that there could be performance gains if more memory were available.\n",
      "2023-10-22 19:33:42.488684: W tensorflow/tsl/framework/bfc_allocator.cc:296] Allocator (GPU_0_bfc) ran out of memory trying to allocate 5.65GiB with freed_by_count=0. The caller indicates that this is not a failure, but this may mean that there could be performance gains if more memory were available.\n",
      "2023-10-22 19:33:42.869766: W tensorflow/tsl/framework/bfc_allocator.cc:296] Allocator (GPU_0_bfc) ran out of memory trying to allocate 6.77GiB with freed_by_count=0. The caller indicates that this is not a failure, but this may mean that there could be performance gains if more memory were available.\n",
      "2023-10-22 19:33:44.761896: W tensorflow/tsl/framework/bfc_allocator.cc:296] Allocator (GPU_0_bfc) ran out of memory trying to allocate 5.33GiB with freed_by_count=0. The caller indicates that this is not a failure, but this may mean that there could be performance gains if more memory were available.\n",
      "2023-10-22 19:33:45.417536: W tensorflow/tsl/framework/bfc_allocator.cc:296] Allocator (GPU_0_bfc) ran out of memory trying to allocate 5.64GiB with freed_by_count=0. The caller indicates that this is not a failure, but this may mean that there could be performance gains if more memory were available.\n",
      "2023-10-22 19:33:47.127072: W tensorflow/tsl/framework/bfc_allocator.cc:296] Allocator (GPU_0_bfc) ran out of memory trying to allocate 6.77GiB with freed_by_count=0. The caller indicates that this is not a failure, but this may mean that there could be performance gains if more memory were available.\n"
     ]
    },
    {
     "name": "stdout",
     "output_type": "stream",
     "text": [
      "118/118 [==============================] - 145s 394ms/step - loss: 33.1603\n",
      "Epoch 2/500\n",
      "118/118 [==============================] - 42s 358ms/step - loss: 11.4674\n",
      "Epoch 3/500\n",
      "118/118 [==============================] - 42s 358ms/step - loss: 11.0905\n",
      "Epoch 4/500\n",
      "118/118 [==============================] - 42s 359ms/step - loss: 11.0189\n",
      "Epoch 5/500\n",
      "118/118 [==============================] - 42s 359ms/step - loss: 10.9011\n",
      "Epoch 6/500\n",
      "118/118 [==============================] - 42s 360ms/step - loss: 10.8318\n",
      "Epoch 7/500\n",
      "118/118 [==============================] - 42s 359ms/step - loss: 10.7215\n",
      "Epoch 8/500\n",
      "118/118 [==============================] - 42s 360ms/step - loss: 10.6465\n",
      "Epoch 9/500\n",
      "118/118 [==============================] - 42s 360ms/step - loss: 10.5272\n",
      "Epoch 10/500\n",
      "118/118 [==============================] - 42s 360ms/step - loss: 10.4075\n",
      "Epoch 11/500\n",
      "118/118 [==============================] - 42s 360ms/step - loss: 10.3218\n",
      "Epoch 12/500\n",
      "118/118 [==============================] - 42s 360ms/step - loss: 10.1785\n",
      "Epoch 13/500\n",
      "118/118 [==============================] - 42s 360ms/step - loss: 10.0466\n",
      "Epoch 14/500\n",
      "118/118 [==============================] - 42s 359ms/step - loss: 9.9579\n",
      "Epoch 15/500\n",
      "118/118 [==============================] - 42s 360ms/step - loss: 9.8148\n",
      "Epoch 16/500\n",
      "118/118 [==============================] - 42s 359ms/step - loss: 9.6748\n",
      "Epoch 17/500\n",
      "118/118 [==============================] - 42s 359ms/step - loss: 9.4899\n",
      "Epoch 18/500\n",
      "118/118 [==============================] - 42s 359ms/step - loss: 9.3301\n",
      "Epoch 19/500\n",
      "118/118 [==============================] - 42s 360ms/step - loss: 9.1864\n",
      "Epoch 20/500\n",
      "118/118 [==============================] - 42s 359ms/step - loss: 9.0568\n",
      "Epoch 21/500\n",
      "118/118 [==============================] - 42s 359ms/step - loss: 8.8440\n",
      "Epoch 22/500\n",
      "118/118 [==============================] - 42s 359ms/step - loss: 8.6704\n",
      "Epoch 23/500\n",
      "118/118 [==============================] - 42s 359ms/step - loss: 8.4198\n",
      "Epoch 24/500\n",
      "118/118 [==============================] - 42s 359ms/step - loss: 8.2398\n",
      "Epoch 25/500\n",
      "118/118 [==============================] - 42s 359ms/step - loss: 8.0404\n",
      "Epoch 26/500\n",
      "118/118 [==============================] - 42s 359ms/step - loss: 7.8668\n",
      "Epoch 27/500\n",
      "118/118 [==============================] - 42s 359ms/step - loss: 7.6447\n",
      "Epoch 28/500\n",
      "118/118 [==============================] - 42s 359ms/step - loss: 7.5147\n",
      "Epoch 29/500\n",
      "118/118 [==============================] - 42s 359ms/step - loss: 7.3518\n",
      "Epoch 30/500\n",
      "118/118 [==============================] - 42s 360ms/step - loss: 7.1488\n",
      "Epoch 31/500\n",
      "118/118 [==============================] - 42s 359ms/step - loss: 6.9914\n",
      "Epoch 32/500\n",
      "118/118 [==============================] - 43s 361ms/step - loss: 7.2270\n",
      "Epoch 33/500\n",
      "118/118 [==============================] - 43s 360ms/step - loss: 7.0946\n",
      "Epoch 34/500\n",
      "118/118 [==============================] - 42s 360ms/step - loss: 6.8729\n",
      "Epoch 35/500\n",
      "118/118 [==============================] - 42s 360ms/step - loss: 7.0759\n",
      "Epoch 36/500\n",
      "118/118 [==============================] - 43s 360ms/step - loss: 6.5707\n",
      "Epoch 37/500\n",
      "118/118 [==============================] - 42s 360ms/step - loss: 6.4592\n",
      "Epoch 38/500\n",
      "118/118 [==============================] - 42s 360ms/step - loss: 6.2514\n",
      "Epoch 39/500\n",
      "118/118 [==============================] - 42s 360ms/step - loss: 6.2245\n",
      "Epoch 40/500\n",
      "118/118 [==============================] - 43s 360ms/step - loss: 6.4327\n",
      "Epoch 41/500\n",
      "118/118 [==============================] - 42s 360ms/step - loss: 6.3915\n",
      "Epoch 42/500\n",
      "118/118 [==============================] - 42s 360ms/step - loss: 7.0710\n",
      "Epoch 43/500\n",
      "118/118 [==============================] - 42s 359ms/step - loss: 6.6315\n",
      "Epoch 44/500\n",
      "118/118 [==============================] - 42s 360ms/step - loss: 6.2253\n",
      "Epoch 45/500\n",
      "118/118 [==============================] - 42s 360ms/step - loss: 5.8934\n",
      "Epoch 46/500\n",
      "118/118 [==============================] - 42s 360ms/step - loss: 6.5072\n",
      "Epoch 47/500\n",
      "118/118 [==============================] - 42s 359ms/step - loss: 6.5265\n",
      "Epoch 48/500\n",
      "118/118 [==============================] - 42s 359ms/step - loss: 5.9259\n",
      "Epoch 49/500\n",
      "118/118 [==============================] - 42s 359ms/step - loss: 5.6337\n",
      "Epoch 50/500\n",
      "118/118 [==============================] - 42s 359ms/step - loss: 6.2034\n",
      "Epoch 51/500\n",
      "118/118 [==============================] - 42s 360ms/step - loss: 5.7754\n",
      "Epoch 52/500\n",
      "118/118 [==============================] - 43s 360ms/step - loss: 5.5817\n",
      "Epoch 53/500\n",
      "118/118 [==============================] - 42s 360ms/step - loss: 5.6584\n",
      "Epoch 54/500\n",
      "118/118 [==============================] - 42s 360ms/step - loss: 5.4115\n",
      "Epoch 55/500\n",
      "118/118 [==============================] - 42s 359ms/step - loss: 5.2237\n",
      "Epoch 56/500\n",
      "118/118 [==============================] - 42s 360ms/step - loss: 5.0852\n",
      "Epoch 57/500\n",
      "118/118 [==============================] - 42s 360ms/step - loss: 4.9929\n",
      "Epoch 58/500\n",
      "118/118 [==============================] - 42s 359ms/step - loss: 4.8448\n",
      "Epoch 59/500\n",
      "118/118 [==============================] - 42s 359ms/step - loss: 4.7454\n",
      "Epoch 60/500\n",
      "118/118 [==============================] - 42s 360ms/step - loss: 4.9708\n",
      "Epoch 61/500\n",
      "118/118 [==============================] - 42s 360ms/step - loss: 5.2808\n",
      "Epoch 62/500\n",
      "118/118 [==============================] - 42s 359ms/step - loss: 5.0711\n",
      "Epoch 63/500\n",
      "118/118 [==============================] - 42s 359ms/step - loss: 5.2363\n",
      "Epoch 64/500\n",
      "118/118 [==============================] - 42s 359ms/step - loss: 5.0263\n",
      "Epoch 65/500\n",
      "118/118 [==============================] - 42s 359ms/step - loss: 5.4533\n",
      "Epoch 66/500\n",
      "118/118 [==============================] - 42s 360ms/step - loss: 5.5446\n",
      "Epoch 67/500\n",
      "118/118 [==============================] - 42s 360ms/step - loss: 5.2540\n",
      "Epoch 68/500\n",
      "118/118 [==============================] - 42s 360ms/step - loss: 5.0651\n",
      "Epoch 69/500\n",
      "118/118 [==============================] - 42s 359ms/step - loss: 4.1085\n",
      "Epoch 70/500\n",
      "118/118 [==============================] - 42s 360ms/step - loss: 3.8439\n",
      "Epoch 71/500\n",
      "118/118 [==============================] - 42s 360ms/step - loss: 3.6638\n",
      "Epoch 72/500\n",
      "118/118 [==============================] - 42s 360ms/step - loss: 3.5339\n",
      "Epoch 73/500\n",
      "118/118 [==============================] - 42s 359ms/step - loss: 3.4818\n",
      "Epoch 74/500\n",
      "118/118 [==============================] - 42s 359ms/step - loss: 3.3626\n",
      "Epoch 75/500\n",
      "118/118 [==============================] - 42s 360ms/step - loss: 3.3005\n",
      "Epoch 76/500\n",
      "118/118 [==============================] - 42s 359ms/step - loss: 3.2705\n",
      "Epoch 77/500\n",
      "118/118 [==============================] - 42s 359ms/step - loss: 3.7705\n",
      "Epoch 78/500\n",
      "118/118 [==============================] - 42s 359ms/step - loss: 3.4950\n",
      "Epoch 79/500\n",
      "118/118 [==============================] - 43s 361ms/step - loss: 3.7938\n",
      "Epoch 80/500\n",
      "118/118 [==============================] - 42s 360ms/step - loss: 3.4587\n",
      "Epoch 81/500\n",
      "118/118 [==============================] - 43s 360ms/step - loss: 3.2224\n",
      "Epoch 82/500\n",
      "118/118 [==============================] - 42s 360ms/step - loss: 3.1543\n",
      "Epoch 83/500\n",
      "118/118 [==============================] - 43s 360ms/step - loss: 3.0710\n",
      "Epoch 84/500\n",
      "118/118 [==============================] - 42s 360ms/step - loss: 3.0059\n",
      "Epoch 85/500\n",
      "118/118 [==============================] - 42s 360ms/step - loss: 2.9541\n",
      "Epoch 86/500\n",
      "118/118 [==============================] - 42s 359ms/step - loss: 2.8851\n",
      "Epoch 87/500\n",
      "118/118 [==============================] - 42s 359ms/step - loss: 2.8850\n",
      "Epoch 88/500\n",
      "118/118 [==============================] - 42s 359ms/step - loss: 2.9848\n",
      "Epoch 89/500\n",
      "118/118 [==============================] - 42s 359ms/step - loss: 2.8695\n",
      "Epoch 90/500\n",
      "118/118 [==============================] - 42s 360ms/step - loss: 2.7845\n",
      "Epoch 91/500\n",
      "118/118 [==============================] - 42s 359ms/step - loss: 2.7394\n",
      "Epoch 92/500\n",
      "118/118 [==============================] - 42s 359ms/step - loss: 2.6994\n",
      "Epoch 93/500\n",
      "118/118 [==============================] - 42s 359ms/step - loss: 2.6873\n",
      "Epoch 94/500\n",
      "118/118 [==============================] - 42s 359ms/step - loss: 2.6982\n",
      "Epoch 95/500\n",
      "118/118 [==============================] - 42s 359ms/step - loss: 2.6158\n",
      "Epoch 96/500\n",
      "118/118 [==============================] - 42s 359ms/step - loss: 2.5815\n",
      "Epoch 97/500\n",
      "118/118 [==============================] - 42s 359ms/step - loss: 2.5550\n",
      "Epoch 98/500\n",
      "118/118 [==============================] - 42s 359ms/step - loss: 2.5298\n",
      "Epoch 99/500\n",
      " 68/118 [================>.............] - ETA: 18s - loss: 2.5303"
     ]
    },
    {
     "ename": "KeyboardInterrupt",
     "evalue": "",
     "output_type": "error",
     "traceback": [
      "\u001b[0;31m---------------------------------------------------------------------------\u001b[0m",
      "\u001b[0;31mKeyboardInterrupt\u001b[0m                         Traceback (most recent call last)",
      "Cell \u001b[0;32mIn[11], line 16\u001b[0m\n\u001b[1;32m     12\u001b[0m representation_learner\u001b[38;5;241m.\u001b[39mcompile(\n\u001b[1;32m     13\u001b[0m     optimizer\u001b[38;5;241m=\u001b[39mtfa\u001b[38;5;241m.\u001b[39moptimizers\u001b[38;5;241m.\u001b[39mAdamW(learning_rate\u001b[38;5;241m=\u001b[39mlr_scheduler, weight_decay\u001b[38;5;241m=\u001b[39m\u001b[38;5;241m0.0001\u001b[39m),\n\u001b[1;32m     14\u001b[0m )\n\u001b[1;32m     15\u001b[0m \u001b[38;5;66;03m# Fit the model.\u001b[39;00m\n\u001b[0;32m---> 16\u001b[0m history \u001b[38;5;241m=\u001b[39m \u001b[43mrepresentation_learner\u001b[49m\u001b[38;5;241;43m.\u001b[39;49m\u001b[43mfit\u001b[49m\u001b[43m(\u001b[49m\n\u001b[1;32m     17\u001b[0m \u001b[43m    \u001b[49m\u001b[43mx\u001b[49m\u001b[38;5;241;43m=\u001b[39;49m\u001b[43mx_data\u001b[49m\u001b[43m,\u001b[49m\n\u001b[1;32m     18\u001b[0m \u001b[43m    \u001b[49m\u001b[43mbatch_size\u001b[49m\u001b[38;5;241;43m=\u001b[39;49m\u001b[38;5;241;43m512\u001b[39;49m\u001b[43m,\u001b[49m\n\u001b[1;32m     19\u001b[0m \u001b[43m    \u001b[49m\u001b[43mepochs\u001b[49m\u001b[38;5;241;43m=\u001b[39;49m\u001b[38;5;241;43m500\u001b[39;49m\u001b[43m,\u001b[49m\u001b[43m  \u001b[49m\u001b[38;5;66;43;03m# for better results, increase the number of epochs to 500.\u001b[39;49;00m\n\u001b[1;32m     20\u001b[0m \u001b[43m)\u001b[49m\n",
      "File \u001b[0;32m/opt/conda/lib/python3.10/site-packages/keras/utils/traceback_utils.py:65\u001b[0m, in \u001b[0;36mfilter_traceback.<locals>.error_handler\u001b[0;34m(*args, **kwargs)\u001b[0m\n\u001b[1;32m     63\u001b[0m filtered_tb \u001b[38;5;241m=\u001b[39m \u001b[38;5;28;01mNone\u001b[39;00m\n\u001b[1;32m     64\u001b[0m \u001b[38;5;28;01mtry\u001b[39;00m:\n\u001b[0;32m---> 65\u001b[0m     \u001b[38;5;28;01mreturn\u001b[39;00m \u001b[43mfn\u001b[49m\u001b[43m(\u001b[49m\u001b[38;5;241;43m*\u001b[39;49m\u001b[43margs\u001b[49m\u001b[43m,\u001b[49m\u001b[43m \u001b[49m\u001b[38;5;241;43m*\u001b[39;49m\u001b[38;5;241;43m*\u001b[39;49m\u001b[43mkwargs\u001b[49m\u001b[43m)\u001b[49m\n\u001b[1;32m     66\u001b[0m \u001b[38;5;28;01mexcept\u001b[39;00m \u001b[38;5;167;01mException\u001b[39;00m \u001b[38;5;28;01mas\u001b[39;00m e:\n\u001b[1;32m     67\u001b[0m     filtered_tb \u001b[38;5;241m=\u001b[39m _process_traceback_frames(e\u001b[38;5;241m.\u001b[39m__traceback__)\n",
      "File \u001b[0;32m/opt/conda/lib/python3.10/site-packages/keras/engine/training.py:1691\u001b[0m, in \u001b[0;36mModel.fit\u001b[0;34m(self, x, y, batch_size, epochs, verbose, callbacks, validation_split, validation_data, shuffle, class_weight, sample_weight, initial_epoch, steps_per_epoch, validation_steps, validation_batch_size, validation_freq, max_queue_size, workers, use_multiprocessing)\u001b[0m\n\u001b[1;32m   1689\u001b[0m logs \u001b[38;5;241m=\u001b[39m tmp_logs\n\u001b[1;32m   1690\u001b[0m end_step \u001b[38;5;241m=\u001b[39m step \u001b[38;5;241m+\u001b[39m data_handler\u001b[38;5;241m.\u001b[39mstep_increment\n\u001b[0;32m-> 1691\u001b[0m \u001b[43mcallbacks\u001b[49m\u001b[38;5;241;43m.\u001b[39;49m\u001b[43mon_train_batch_end\u001b[49m\u001b[43m(\u001b[49m\u001b[43mend_step\u001b[49m\u001b[43m,\u001b[49m\u001b[43m \u001b[49m\u001b[43mlogs\u001b[49m\u001b[43m)\u001b[49m\n\u001b[1;32m   1692\u001b[0m \u001b[38;5;28;01mif\u001b[39;00m \u001b[38;5;28mself\u001b[39m\u001b[38;5;241m.\u001b[39mstop_training:\n\u001b[1;32m   1693\u001b[0m     \u001b[38;5;28;01mbreak\u001b[39;00m\n",
      "File \u001b[0;32m/opt/conda/lib/python3.10/site-packages/keras/callbacks.py:475\u001b[0m, in \u001b[0;36mCallbackList.on_train_batch_end\u001b[0;34m(self, batch, logs)\u001b[0m\n\u001b[1;32m    468\u001b[0m \u001b[38;5;250m\u001b[39m\u001b[38;5;124;03m\"\"\"Calls the `on_train_batch_end` methods of its callbacks.\u001b[39;00m\n\u001b[1;32m    469\u001b[0m \n\u001b[1;32m    470\u001b[0m \u001b[38;5;124;03mArgs:\u001b[39;00m\n\u001b[1;32m    471\u001b[0m \u001b[38;5;124;03m    batch: Integer, index of batch within the current epoch.\u001b[39;00m\n\u001b[1;32m    472\u001b[0m \u001b[38;5;124;03m    logs: Dict. Aggregated metric results up until this batch.\u001b[39;00m\n\u001b[1;32m    473\u001b[0m \u001b[38;5;124;03m\"\"\"\u001b[39;00m\n\u001b[1;32m    474\u001b[0m \u001b[38;5;28;01mif\u001b[39;00m \u001b[38;5;28mself\u001b[39m\u001b[38;5;241m.\u001b[39m_should_call_train_batch_hooks:\n\u001b[0;32m--> 475\u001b[0m     \u001b[38;5;28;43mself\u001b[39;49m\u001b[38;5;241;43m.\u001b[39;49m\u001b[43m_call_batch_hook\u001b[49m\u001b[43m(\u001b[49m\u001b[43mModeKeys\u001b[49m\u001b[38;5;241;43m.\u001b[39;49m\u001b[43mTRAIN\u001b[49m\u001b[43m,\u001b[49m\u001b[43m \u001b[49m\u001b[38;5;124;43m\"\u001b[39;49m\u001b[38;5;124;43mend\u001b[39;49m\u001b[38;5;124;43m\"\u001b[39;49m\u001b[43m,\u001b[49m\u001b[43m \u001b[49m\u001b[43mbatch\u001b[49m\u001b[43m,\u001b[49m\u001b[43m \u001b[49m\u001b[43mlogs\u001b[49m\u001b[38;5;241;43m=\u001b[39;49m\u001b[43mlogs\u001b[49m\u001b[43m)\u001b[49m\n",
      "File \u001b[0;32m/opt/conda/lib/python3.10/site-packages/keras/callbacks.py:322\u001b[0m, in \u001b[0;36mCallbackList._call_batch_hook\u001b[0;34m(self, mode, hook, batch, logs)\u001b[0m\n\u001b[1;32m    320\u001b[0m     \u001b[38;5;28mself\u001b[39m\u001b[38;5;241m.\u001b[39m_call_batch_begin_hook(mode, batch, logs)\n\u001b[1;32m    321\u001b[0m \u001b[38;5;28;01melif\u001b[39;00m hook \u001b[38;5;241m==\u001b[39m \u001b[38;5;124m\"\u001b[39m\u001b[38;5;124mend\u001b[39m\u001b[38;5;124m\"\u001b[39m:\n\u001b[0;32m--> 322\u001b[0m     \u001b[38;5;28;43mself\u001b[39;49m\u001b[38;5;241;43m.\u001b[39;49m\u001b[43m_call_batch_end_hook\u001b[49m\u001b[43m(\u001b[49m\u001b[43mmode\u001b[49m\u001b[43m,\u001b[49m\u001b[43m \u001b[49m\u001b[43mbatch\u001b[49m\u001b[43m,\u001b[49m\u001b[43m \u001b[49m\u001b[43mlogs\u001b[49m\u001b[43m)\u001b[49m\n\u001b[1;32m    323\u001b[0m \u001b[38;5;28;01melse\u001b[39;00m:\n\u001b[1;32m    324\u001b[0m     \u001b[38;5;28;01mraise\u001b[39;00m \u001b[38;5;167;01mValueError\u001b[39;00m(\n\u001b[1;32m    325\u001b[0m         \u001b[38;5;124mf\u001b[39m\u001b[38;5;124m\"\u001b[39m\u001b[38;5;124mUnrecognized hook: \u001b[39m\u001b[38;5;132;01m{\u001b[39;00mhook\u001b[38;5;132;01m}\u001b[39;00m\u001b[38;5;124m. \u001b[39m\u001b[38;5;124m\"\u001b[39m\n\u001b[1;32m    326\u001b[0m         \u001b[38;5;124m'\u001b[39m\u001b[38;5;124mExpected values are [\u001b[39m\u001b[38;5;124m\"\u001b[39m\u001b[38;5;124mbegin\u001b[39m\u001b[38;5;124m\"\u001b[39m\u001b[38;5;124m, \u001b[39m\u001b[38;5;124m\"\u001b[39m\u001b[38;5;124mend\u001b[39m\u001b[38;5;124m\"\u001b[39m\u001b[38;5;124m]\u001b[39m\u001b[38;5;124m'\u001b[39m\n\u001b[1;32m    327\u001b[0m     )\n",
      "File \u001b[0;32m/opt/conda/lib/python3.10/site-packages/keras/callbacks.py:345\u001b[0m, in \u001b[0;36mCallbackList._call_batch_end_hook\u001b[0;34m(self, mode, batch, logs)\u001b[0m\n\u001b[1;32m    342\u001b[0m     batch_time \u001b[38;5;241m=\u001b[39m time\u001b[38;5;241m.\u001b[39mtime() \u001b[38;5;241m-\u001b[39m \u001b[38;5;28mself\u001b[39m\u001b[38;5;241m.\u001b[39m_batch_start_time\n\u001b[1;32m    343\u001b[0m     \u001b[38;5;28mself\u001b[39m\u001b[38;5;241m.\u001b[39m_batch_times\u001b[38;5;241m.\u001b[39mappend(batch_time)\n\u001b[0;32m--> 345\u001b[0m \u001b[38;5;28;43mself\u001b[39;49m\u001b[38;5;241;43m.\u001b[39;49m\u001b[43m_call_batch_hook_helper\u001b[49m\u001b[43m(\u001b[49m\u001b[43mhook_name\u001b[49m\u001b[43m,\u001b[49m\u001b[43m \u001b[49m\u001b[43mbatch\u001b[49m\u001b[43m,\u001b[49m\u001b[43m \u001b[49m\u001b[43mlogs\u001b[49m\u001b[43m)\u001b[49m\n\u001b[1;32m    347\u001b[0m \u001b[38;5;28;01mif\u001b[39;00m \u001b[38;5;28mlen\u001b[39m(\u001b[38;5;28mself\u001b[39m\u001b[38;5;241m.\u001b[39m_batch_times) \u001b[38;5;241m>\u001b[39m\u001b[38;5;241m=\u001b[39m \u001b[38;5;28mself\u001b[39m\u001b[38;5;241m.\u001b[39m_num_batches_for_timing_check:\n\u001b[1;32m    348\u001b[0m     end_hook_name \u001b[38;5;241m=\u001b[39m hook_name\n",
      "File \u001b[0;32m/opt/conda/lib/python3.10/site-packages/keras/callbacks.py:393\u001b[0m, in \u001b[0;36mCallbackList._call_batch_hook_helper\u001b[0;34m(self, hook_name, batch, logs)\u001b[0m\n\u001b[1;32m    391\u001b[0m \u001b[38;5;28;01mfor\u001b[39;00m callback \u001b[38;5;129;01min\u001b[39;00m \u001b[38;5;28mself\u001b[39m\u001b[38;5;241m.\u001b[39mcallbacks:\n\u001b[1;32m    392\u001b[0m     hook \u001b[38;5;241m=\u001b[39m \u001b[38;5;28mgetattr\u001b[39m(callback, hook_name)\n\u001b[0;32m--> 393\u001b[0m     \u001b[43mhook\u001b[49m\u001b[43m(\u001b[49m\u001b[43mbatch\u001b[49m\u001b[43m,\u001b[49m\u001b[43m \u001b[49m\u001b[43mlogs\u001b[49m\u001b[43m)\u001b[49m\n\u001b[1;32m    395\u001b[0m \u001b[38;5;28;01mif\u001b[39;00m \u001b[38;5;28mself\u001b[39m\u001b[38;5;241m.\u001b[39m_check_timing:\n\u001b[1;32m    396\u001b[0m     \u001b[38;5;28;01mif\u001b[39;00m hook_name \u001b[38;5;129;01mnot\u001b[39;00m \u001b[38;5;129;01min\u001b[39;00m \u001b[38;5;28mself\u001b[39m\u001b[38;5;241m.\u001b[39m_hook_times:\n",
      "File \u001b[0;32m/opt/conda/lib/python3.10/site-packages/keras/callbacks.py:1093\u001b[0m, in \u001b[0;36mProgbarLogger.on_train_batch_end\u001b[0;34m(self, batch, logs)\u001b[0m\n\u001b[1;32m   1092\u001b[0m \u001b[38;5;28;01mdef\u001b[39;00m \u001b[38;5;21mon_train_batch_end\u001b[39m(\u001b[38;5;28mself\u001b[39m, batch, logs\u001b[38;5;241m=\u001b[39m\u001b[38;5;28;01mNone\u001b[39;00m):\n\u001b[0;32m-> 1093\u001b[0m     \u001b[38;5;28;43mself\u001b[39;49m\u001b[38;5;241;43m.\u001b[39;49m\u001b[43m_batch_update_progbar\u001b[49m\u001b[43m(\u001b[49m\u001b[43mbatch\u001b[49m\u001b[43m,\u001b[49m\u001b[43m \u001b[49m\u001b[43mlogs\u001b[49m\u001b[43m)\u001b[49m\n",
      "File \u001b[0;32m/opt/conda/lib/python3.10/site-packages/keras/callbacks.py:1169\u001b[0m, in \u001b[0;36mProgbarLogger._batch_update_progbar\u001b[0;34m(self, batch, logs)\u001b[0m\n\u001b[1;32m   1165\u001b[0m     \u001b[38;5;28mself\u001b[39m\u001b[38;5;241m.\u001b[39mseen \u001b[38;5;241m+\u001b[39m\u001b[38;5;241m=\u001b[39m add_seen\n\u001b[1;32m   1167\u001b[0m \u001b[38;5;28;01mif\u001b[39;00m \u001b[38;5;28mself\u001b[39m\u001b[38;5;241m.\u001b[39mverbose \u001b[38;5;241m==\u001b[39m \u001b[38;5;241m1\u001b[39m:\n\u001b[1;32m   1168\u001b[0m     \u001b[38;5;66;03m# Only block async when verbose = 1.\u001b[39;00m\n\u001b[0;32m-> 1169\u001b[0m     logs \u001b[38;5;241m=\u001b[39m \u001b[43mtf_utils\u001b[49m\u001b[38;5;241;43m.\u001b[39;49m\u001b[43msync_to_numpy_or_python_type\u001b[49m\u001b[43m(\u001b[49m\u001b[43mlogs\u001b[49m\u001b[43m)\u001b[49m\n\u001b[1;32m   1170\u001b[0m     \u001b[38;5;28mself\u001b[39m\u001b[38;5;241m.\u001b[39mprogbar\u001b[38;5;241m.\u001b[39mupdate(\u001b[38;5;28mself\u001b[39m\u001b[38;5;241m.\u001b[39mseen, \u001b[38;5;28mlist\u001b[39m(logs\u001b[38;5;241m.\u001b[39mitems()), finalize\u001b[38;5;241m=\u001b[39m\u001b[38;5;28;01mFalse\u001b[39;00m)\n",
      "File \u001b[0;32m/opt/conda/lib/python3.10/site-packages/keras/utils/tf_utils.py:680\u001b[0m, in \u001b[0;36msync_to_numpy_or_python_type\u001b[0;34m(tensors)\u001b[0m\n\u001b[1;32m    677\u001b[0m         \u001b[38;5;28;01mreturn\u001b[39;00m t\n\u001b[1;32m    678\u001b[0m     \u001b[38;5;28;01mreturn\u001b[39;00m t\u001b[38;5;241m.\u001b[39mitem() \u001b[38;5;28;01mif\u001b[39;00m np\u001b[38;5;241m.\u001b[39mndim(t) \u001b[38;5;241m==\u001b[39m \u001b[38;5;241m0\u001b[39m \u001b[38;5;28;01melse\u001b[39;00m t\n\u001b[0;32m--> 680\u001b[0m \u001b[38;5;28;01mreturn\u001b[39;00m \u001b[43mtf\u001b[49m\u001b[38;5;241;43m.\u001b[39;49m\u001b[43mnest\u001b[49m\u001b[38;5;241;43m.\u001b[39;49m\u001b[43mmap_structure\u001b[49m\u001b[43m(\u001b[49m\u001b[43m_to_single_numpy_or_python_type\u001b[49m\u001b[43m,\u001b[49m\u001b[43m \u001b[49m\u001b[43mtensors\u001b[49m\u001b[43m)\u001b[49m\n",
      "File \u001b[0;32m/opt/conda/lib/python3.10/site-packages/tensorflow/python/util/nest.py:917\u001b[0m, in \u001b[0;36mmap_structure\u001b[0;34m(func, *structure, **kwargs)\u001b[0m\n\u001b[1;32m    913\u001b[0m flat_structure \u001b[38;5;241m=\u001b[39m (flatten(s, expand_composites) \u001b[38;5;28;01mfor\u001b[39;00m s \u001b[38;5;129;01min\u001b[39;00m structure)\n\u001b[1;32m    914\u001b[0m entries \u001b[38;5;241m=\u001b[39m \u001b[38;5;28mzip\u001b[39m(\u001b[38;5;241m*\u001b[39mflat_structure)\n\u001b[1;32m    916\u001b[0m \u001b[38;5;28;01mreturn\u001b[39;00m pack_sequence_as(\n\u001b[0;32m--> 917\u001b[0m     structure[\u001b[38;5;241m0\u001b[39m], [func(\u001b[38;5;241m*\u001b[39mx) \u001b[38;5;28;01mfor\u001b[39;00m x \u001b[38;5;129;01min\u001b[39;00m entries],\n\u001b[1;32m    918\u001b[0m     expand_composites\u001b[38;5;241m=\u001b[39mexpand_composites)\n",
      "File \u001b[0;32m/opt/conda/lib/python3.10/site-packages/tensorflow/python/util/nest.py:917\u001b[0m, in \u001b[0;36m<listcomp>\u001b[0;34m(.0)\u001b[0m\n\u001b[1;32m    913\u001b[0m flat_structure \u001b[38;5;241m=\u001b[39m (flatten(s, expand_composites) \u001b[38;5;28;01mfor\u001b[39;00m s \u001b[38;5;129;01min\u001b[39;00m structure)\n\u001b[1;32m    914\u001b[0m entries \u001b[38;5;241m=\u001b[39m \u001b[38;5;28mzip\u001b[39m(\u001b[38;5;241m*\u001b[39mflat_structure)\n\u001b[1;32m    916\u001b[0m \u001b[38;5;28;01mreturn\u001b[39;00m pack_sequence_as(\n\u001b[0;32m--> 917\u001b[0m     structure[\u001b[38;5;241m0\u001b[39m], [\u001b[43mfunc\u001b[49m\u001b[43m(\u001b[49m\u001b[38;5;241;43m*\u001b[39;49m\u001b[43mx\u001b[49m\u001b[43m)\u001b[49m \u001b[38;5;28;01mfor\u001b[39;00m x \u001b[38;5;129;01min\u001b[39;00m entries],\n\u001b[1;32m    918\u001b[0m     expand_composites\u001b[38;5;241m=\u001b[39mexpand_composites)\n",
      "File \u001b[0;32m/opt/conda/lib/python3.10/site-packages/keras/utils/tf_utils.py:673\u001b[0m, in \u001b[0;36msync_to_numpy_or_python_type.<locals>._to_single_numpy_or_python_type\u001b[0;34m(t)\u001b[0m\n\u001b[1;32m    670\u001b[0m \u001b[38;5;28;01mdef\u001b[39;00m \u001b[38;5;21m_to_single_numpy_or_python_type\u001b[39m(t):\n\u001b[1;32m    671\u001b[0m     \u001b[38;5;66;03m# Don't turn ragged or sparse tensors to NumPy.\u001b[39;00m\n\u001b[1;32m    672\u001b[0m     \u001b[38;5;28;01mif\u001b[39;00m \u001b[38;5;28misinstance\u001b[39m(t, tf\u001b[38;5;241m.\u001b[39mTensor):\n\u001b[0;32m--> 673\u001b[0m         t \u001b[38;5;241m=\u001b[39m \u001b[43mt\u001b[49m\u001b[38;5;241;43m.\u001b[39;49m\u001b[43mnumpy\u001b[49m\u001b[43m(\u001b[49m\u001b[43m)\u001b[49m\n\u001b[1;32m    674\u001b[0m     \u001b[38;5;66;03m# Strings, ragged and sparse tensors don't have .item(). Return them\u001b[39;00m\n\u001b[1;32m    675\u001b[0m     \u001b[38;5;66;03m# as-is.\u001b[39;00m\n\u001b[1;32m    676\u001b[0m     \u001b[38;5;28;01mif\u001b[39;00m \u001b[38;5;129;01mnot\u001b[39;00m \u001b[38;5;28misinstance\u001b[39m(t, (np\u001b[38;5;241m.\u001b[39mndarray, np\u001b[38;5;241m.\u001b[39mgeneric)):\n",
      "File \u001b[0;32m/opt/conda/lib/python3.10/site-packages/tensorflow/python/framework/ops.py:1160\u001b[0m, in \u001b[0;36m_EagerTensorBase.numpy\u001b[0;34m(self)\u001b[0m\n\u001b[1;32m   1137\u001b[0m \u001b[38;5;250m\u001b[39m\u001b[38;5;124;03m\"\"\"Copy of the contents of this Tensor into a NumPy array or scalar.\u001b[39;00m\n\u001b[1;32m   1138\u001b[0m \n\u001b[1;32m   1139\u001b[0m \u001b[38;5;124;03mUnlike NumPy arrays, Tensors are immutable, so this method has to copy\u001b[39;00m\n\u001b[0;32m   (...)\u001b[0m\n\u001b[1;32m   1157\u001b[0m \u001b[38;5;124;03m    NumPy dtype.\u001b[39;00m\n\u001b[1;32m   1158\u001b[0m \u001b[38;5;124;03m\"\"\"\u001b[39;00m\n\u001b[1;32m   1159\u001b[0m \u001b[38;5;66;03m# TODO(slebedev): Consider avoiding a copy for non-CPU or remote tensors.\u001b[39;00m\n\u001b[0;32m-> 1160\u001b[0m maybe_arr \u001b[38;5;241m=\u001b[39m \u001b[38;5;28;43mself\u001b[39;49m\u001b[38;5;241;43m.\u001b[39;49m\u001b[43m_numpy\u001b[49m\u001b[43m(\u001b[49m\u001b[43m)\u001b[49m  \u001b[38;5;66;03m# pylint: disable=protected-access\u001b[39;00m\n\u001b[1;32m   1161\u001b[0m \u001b[38;5;28;01mreturn\u001b[39;00m maybe_arr\u001b[38;5;241m.\u001b[39mcopy() \u001b[38;5;28;01mif\u001b[39;00m \u001b[38;5;28misinstance\u001b[39m(maybe_arr, np\u001b[38;5;241m.\u001b[39mndarray) \u001b[38;5;28;01melse\u001b[39;00m maybe_arr\n",
      "File \u001b[0;32m/opt/conda/lib/python3.10/site-packages/tensorflow/python/framework/ops.py:1126\u001b[0m, in \u001b[0;36m_EagerTensorBase._numpy\u001b[0;34m(self)\u001b[0m\n\u001b[1;32m   1124\u001b[0m \u001b[38;5;28;01mdef\u001b[39;00m \u001b[38;5;21m_numpy\u001b[39m(\u001b[38;5;28mself\u001b[39m):\n\u001b[1;32m   1125\u001b[0m   \u001b[38;5;28;01mtry\u001b[39;00m:\n\u001b[0;32m-> 1126\u001b[0m     \u001b[38;5;28;01mreturn\u001b[39;00m \u001b[38;5;28;43mself\u001b[39;49m\u001b[38;5;241;43m.\u001b[39;49m\u001b[43m_numpy_internal\u001b[49m\u001b[43m(\u001b[49m\u001b[43m)\u001b[49m\n\u001b[1;32m   1127\u001b[0m   \u001b[38;5;28;01mexcept\u001b[39;00m core\u001b[38;5;241m.\u001b[39m_NotOkStatusException \u001b[38;5;28;01mas\u001b[39;00m e:  \u001b[38;5;66;03m# pylint: disable=protected-access\u001b[39;00m\n\u001b[1;32m   1128\u001b[0m     \u001b[38;5;28;01mraise\u001b[39;00m core\u001b[38;5;241m.\u001b[39m_status_to_exception(e) \u001b[38;5;28;01mfrom\u001b[39;00m \u001b[38;5;28;01mNone\u001b[39;00m\n",
      "\u001b[0;31mKeyboardInterrupt\u001b[0m: "
     ]
    }
   ],
   "source": [
    "# Create vision encoder.\n",
    "encoder = create_encoder(representation_dim)\n",
    "# Create representation learner.\n",
    "representation_learner = RepresentationLearner(\n",
    "    encoder, projection_units, num_augmentations=2, temperature=0.1\n",
    ")\n",
    "# Create a a Cosine decay learning rate scheduler.\n",
    "lr_scheduler = keras.optimizers.schedules.CosineDecay(\n",
    "    initial_learning_rate=0.001, decay_steps=500, alpha=0.1\n",
    ")\n",
    "# Compile the model.\n",
    "representation_learner.compile(\n",
    "    optimizer=tfa.optimizers.AdamW(learning_rate=lr_scheduler, weight_decay=0.0001),\n",
    ")\n",
    "# Fit the model.\n",
    "history = representation_learner.fit(\n",
    "    x=x_data,\n",
    "    batch_size=512,\n",
    "    epochs=500,  # for better results, increase the number of epochs to 500.\n",
    ")"
   ]
  },
  {
   "cell_type": "code",
   "execution_count": null,
   "id": "abd51a38-7d27-4734-8217-2301a0a9fcc1",
   "metadata": {},
   "outputs": [],
   "source": []
  }
 ],
 "metadata": {
  "kernelspec": {
   "display_name": "TensorFlow 2.12 (Local)",
   "language": "python",
   "name": "local-tf2-2-12"
  },
  "language_info": {
   "codemirror_mode": {
    "name": "ipython",
    "version": 3
   },
   "file_extension": ".py",
   "mimetype": "text/x-python",
   "name": "python",
   "nbconvert_exporter": "python",
   "pygments_lexer": "ipython3",
   "version": "3.10.12"
  }
 },
 "nbformat": 4,
 "nbformat_minor": 5
}
